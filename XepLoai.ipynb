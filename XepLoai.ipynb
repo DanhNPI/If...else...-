{
 "cells": [
  {
   "cell_type": "code",
   "execution_count": 18,
   "metadata": {},
   "outputs": [
    {
     "name": "stdout",
     "output_type": "stream",
     "text": [
      "Xếp loại:  Yếu\n"
     ]
    }
   ],
   "source": [
    "#Nhập điểm thành phần\n",
    "diem15p = float(input ('Nhập điểm 15p:'))\n",
    "diemGiuaKi = float(input('Nhập điểm giữa kì: '))\n",
    "diemCuoiKi = float(input('Nhập điểm cuối kì: '))\n",
    "\n",
    "xepLoai = ['Giỏi', 'Khá', 'Trung bình', 'Yếu']\n",
    "# print (diem15p)\n",
    "# print (diemGiuaKi)\n",
    "# print (diemCuoiKi)\n",
    "# print (tongKet)\n",
    "\n",
    "if diem15p < 0 or diemGiuaKi < 0 or diemCuoiKi < 0:\n",
    "    print ('Error!!!')\n",
    "else:\n",
    "    tongKet = round((diem15p + diemGiuaKi*1.5 + diemCuoiKi*2)/4.5,2)\n",
    "\n",
    "if tongKet >= 8:\n",
    "    print ('Xếp loại: ', xepLoai[0])\n",
    "elif tongKet >= 6.5:\n",
    "    print ('Xếp loại: ', xepLoai[1])\n",
    "elif tongKet >= 5:\n",
    "    print ('Xếp loại: ', xepLoai[2])\n",
    "elif 0 <= tongKet < 5:\n",
    "    print ('Xếp loại: ', xepLoai[3])\n"
   ]
  },
  {
   "cell_type": "code",
   "execution_count": 17,
   "metadata": {},
   "outputs": [
    {
     "name": "stdout",
     "output_type": "stream",
     "text": [
      "Phương trình bậc 2 chuẩn:  -x^2-43 = 0\n"
     ]
    }
   ],
   "source": [
    "#Nhập hệ số của pt bậc 2\n",
    "\n",
    "a = input('Nhập hệ số a: ')\n",
    "b = input('Nhập hệ số b: ')\n",
    "c = input('Nhập hệ số c: ')\n",
    "\n",
    "\n",
    "if a == '1':\n",
    "    x2 = 'x^2'\n",
    "elif a == '0':\n",
    "    x2 = int(a)*'x^2'\n",
    "elif a == '-1':\n",
    "    x2 = '-x^2'\n",
    "else:\n",
    "    x2 = a + 'x^2'\n",
    "\n",
    "if b == '1':\n",
    "    x1 = 'x'\n",
    "elif b == '0':\n",
    "    x1 = int(b)*'x'\n",
    "elif b == '-1':\n",
    "    x1 = '-x'\n",
    "elif float(b) > 0:\n",
    "    x2 = '+' + b + 'x^2'\n",
    "elif float(b) < 0:\n",
    "    x2 = b + 'x^2'\n",
    "\n",
    "if c == '0':\n",
    "    x0 = int(c)\n",
    "elif float(c) > 0:\n",
    "    x0 = '+' + c\n",
    "else:\n",
    "    x0 = c\n",
    "\n",
    "kq = x2 + x1 + x0 + ' = 0'\n",
    "\n",
    "print ('Phương trình bậc 2 chuẩn: ', kq)"
   ]
  }
 ],
 "metadata": {
  "interpreter": {
   "hash": "d214c75ab8d1216eadbaa5a693322f926d575fb76f8b66bf2abcf5bac0e5cf6c"
  },
  "kernelspec": {
   "display_name": "Python 3.10.2 64-bit",
   "language": "python",
   "name": "python3"
  },
  "language_info": {
   "codemirror_mode": {
    "name": "ipython",
    "version": 3
   },
   "file_extension": ".py",
   "mimetype": "text/x-python",
   "name": "python",
   "nbconvert_exporter": "python",
   "pygments_lexer": "ipython3",
   "version": "3.10.2"
  },
  "orig_nbformat": 4
 },
 "nbformat": 4,
 "nbformat_minor": 2
}
